{
 "cells": [
  {
   "cell_type": "code",
   "execution_count": 35,
   "metadata": {},
   "outputs": [],
   "source": [
    "import numpy as np\n",
    "\n",
    "def multinomial_samples(L,w):\n",
    "    M = len(w)\n",
    "    Eta = np.zeros(M)\n",
    "    u_list = np.random.uniform(0.0,1.0,L)\n",
    "    for l in range(0,L):\n",
    "        u=u_list[l]\n",
    "        w_sum = w[0]\n",
    "        i_star = 0\n",
    "        \n",
    "        while w_sum < u:\n",
    "            i_star +=1\n",
    "            w_sum += w[i_star]\n",
    "        \n",
    "        Eta[i_star] +=1\n",
    "        \n",
    "    return Eta\n",
    "            "
   ]
  },
  {
   "cell_type": "code",
   "execution_count": 41,
   "metadata": {},
   "outputs": [],
   "source": [
    "L = 1000\n",
    "w = [0.2,0.3,0.5]\n",
    "Eta = multinomial_samples(L,w)"
   ]
  },
  {
   "cell_type": "code",
   "execution_count": 42,
   "metadata": {},
   "outputs": [
    {
     "data": {
      "text/plain": [
       "array([0.195, 0.318, 0.487])"
      ]
     },
     "execution_count": 42,
     "metadata": {},
     "output_type": "execute_result"
    }
   ],
   "source": [
    "Eta/L"
   ]
  }
 ],
 "metadata": {
  "kernelspec": {
   "display_name": "Python 3",
   "language": "python",
   "name": "python3"
  },
  "language_info": {
   "codemirror_mode": {
    "name": "ipython",
    "version": 3
   },
   "file_extension": ".py",
   "mimetype": "text/x-python",
   "name": "python",
   "nbconvert_exporter": "python",
   "pygments_lexer": "ipython3",
   "version": "3.7.4"
  }
 },
 "nbformat": 4,
 "nbformat_minor": 2
}
