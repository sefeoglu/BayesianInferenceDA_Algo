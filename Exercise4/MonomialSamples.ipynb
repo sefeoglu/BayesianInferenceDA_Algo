{
 "cells": [
  {
   "cell_type": "markdown",
   "metadata": {},
   "source": [
    "multinomial Sampling Algorithm"
   ]
  },
  {
   "cell_type": "code",
   "execution_count": 1,
   "metadata": {},
   "outputs": [],
   "source": [
    "import numpy as np"
   ]
  },
  {
   "cell_type": "code",
   "execution_count": 8,
   "metadata": {},
   "outputs": [],
   "source": [
    "def multinomialSamples(M, L, w_arr):\n",
    "    eta_bar = np.zeros(M)\n",
    "    u_list = np.random.uniform(low=0.0, high=1.0, size= L)\n",
    "    for current in range(L):\n",
    "        u = u_list[current]\n",
    "        w_sum = w_arr[0]\n",
    "        i_star = 0\n",
    "        while w_sum < u:\n",
    "            i_star +=1\n",
    "            w_sum += w_arr[i_star]\n",
    "            eta_bar[i_star] +=1\n",
    "    return eta_bar\n",
    "\n",
    "            "
   ]
  },
  {
   "cell_type": "code",
   "execution_count": 9,
   "metadata": {},
   "outputs": [],
   "source": [
    "L=10000\n",
    "w_arr = np.asarray([0.2,0.1,0.05,0.25,0.33,0.07])\n",
    "M = len(w_arr)\n",
    "eta_bar = multinomialSamples(M, L, w_arr)"
   ]
  },
  {
   "cell_type": "code",
   "execution_count": 10,
   "metadata": {},
   "outputs": [
    {
     "name": "stdout",
     "output_type": "stream",
     "text": [
      "[0.2  0.1  0.05 0.25 0.33 0.07]\n",
      "[0.     0.7998 0.6995 0.648  0.3962 0.0723]\n"
     ]
    }
   ],
   "source": [
    "print(w_arr)\n",
    "print(eta_bar/L)"
   ]
  }
 ],
 "metadata": {
  "kernelspec": {
   "display_name": "Python 3",
   "language": "python",
   "name": "python3"
  },
  "language_info": {
   "codemirror_mode": {
    "name": "ipython",
    "version": 3
   },
   "file_extension": ".py",
   "mimetype": "text/x-python",
   "name": "python",
   "nbconvert_exporter": "python",
   "pygments_lexer": "ipython3",
   "version": "3.7.4"
  }
 },
 "nbformat": 4,
 "nbformat_minor": 2
}
