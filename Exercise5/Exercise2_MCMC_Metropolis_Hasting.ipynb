{
 "cells": [
  {
   "cell_type": "markdown",
   "metadata": {},
   "source": [
    "## Exercise Sheet5-2"
   ]
  },
  {
   "cell_type": "code",
   "execution_count": 1,
   "metadata": {},
   "outputs": [],
   "source": [
    "import numpy as np"
   ]
  },
  {
   "cell_type": "code",
   "execution_count": 2,
   "metadata": {},
   "outputs": [],
   "source": [
    "def get_pi(j):\n",
    "    transition_matrix = np.array([[1/3,1/3,1/3],[1/3,1/3,1/3],[1/3,1/3,1/3]])\n",
    "    return transition_matrix[:,j-1]"
   ]
  },
  {
   "cell_type": "code",
   "execution_count": 3,
   "metadata": {},
   "outputs": [],
   "source": [
    "def Metropolis_Hastings(target_pi, n_iterations):\n",
    "    sample_list = [] # to store samples\n",
    "    states_all = [1, 2, 3]\n",
    "    state_j_current = 1 #initial state\n",
    "    state_i_proposal = np.nan #proposal state\n",
    "    accept_count = 0 # just for reference\n",
    "    pi = get_pi(state_j_current)\n",
    "    for j in range(n_iterations):\n",
    "        #proposal_drawn\n",
    "        state_i_proposal = int(np.random.choice(states_all, p=pi))\n",
    "        # compute the probability of the accepting the proposal\n",
    "        alpha_ij = min(1, target_pi[state_i_proposal-1]/target_pi[state_j_current-1])\n",
    "        #print(alpha_ij)\n",
    "        # draw a uniform random number\n",
    "        u = np.random.uniform(low=0.0, high=1.0)\n",
    "        \n",
    "        if(alpha_ij >= u): # accepting condition\n",
    "            state_j_current = state_i_proposal # move to the proposal state\n",
    "            \n",
    "            pi= get_pi(state_i_proposal)\n",
    "            accept_count += 1 #increase the number of acceptance\n",
    "        \n",
    "        sample_list.append(state_j_current)# store the sample\n",
    "        \n",
    "    accept_ratio = accept_count/n_iterations\n",
    "    \n",
    "    return sample_list, accept_ratio\n",
    "        \n",
    "        "
   ]
  },
  {
   "cell_type": "code",
   "execution_count": 4,
   "metadata": {},
   "outputs": [
    {
     "name": "stdout",
     "output_type": "stream",
     "text": [
      "Proportion of the accepted proposals: 0.8892\n"
     ]
    }
   ],
   "source": [
    "# assign the target distribution and the number of samples to be collected \n",
    "\n",
    "target_distribution = [4/12, 3/12, 5/12]\n",
    "n_samples = 10000\n",
    "\n",
    "# obtain the full samples as well as the proposal acceptance ratio\n",
    "\n",
    "sample_list, acceptance_ratio = Metropolis_Hastings(target_distribution, n_samples)\n",
    "\n",
    "print(\"Proportion of the accepted proposals: {}\".format(acceptance_ratio))"
   ]
  },
  {
   "cell_type": "code",
   "execution_count": 5,
   "metadata": {},
   "outputs": [
    {
     "name": "stdout",
     "output_type": "stream",
     "text": [
      "Sample distribution: [0.3192 0.2529 0.4279]\n"
     ]
    }
   ],
   "source": [
    "# count how many time each sample has been collected\n",
    "\n",
    "sample_count_list = np.unique(sample_list, return_counts=True)[1]\n",
    "\n",
    "#Compute the frequency of each sample\n",
    "sample_distribution = sample_count_list/sum(sample_count_list)\n",
    "\n",
    "print(\"Sample distribution: {}\".format(sample_distribution))\n"
   ]
  },
  {
   "cell_type": "code",
   "execution_count": 6,
   "metadata": {},
   "outputs": [
    {
     "name": "stdout",
     "output_type": "stream",
     "text": [
      "Compare the sample distribution with the target distribution within %5 of residual tolerance!\n"
     ]
    },
    {
     "data": {
      "text/plain": [
       "array([ True,  True,  True])"
      ]
     },
     "execution_count": 6,
     "metadata": {},
     "output_type": "execute_result"
    }
   ],
   "source": [
    "print(\"Compare the sample distribution with the target distribution within %5 of residual tolerance!\")\n",
    "\n",
    "np.isclose(sample_distribution, target_distribution, rtol=0.05)\n"
   ]
  },
  {
   "cell_type": "code",
   "execution_count": null,
   "metadata": {},
   "outputs": [],
   "source": []
  }
 ],
 "metadata": {
  "kernelspec": {
   "display_name": "Python 3",
   "language": "python",
   "name": "python3"
  },
  "language_info": {
   "codemirror_mode": {
    "name": "ipython",
    "version": 3
   },
   "file_extension": ".py",
   "mimetype": "text/x-python",
   "name": "python",
   "nbconvert_exporter": "python",
   "pygments_lexer": "ipython3",
   "version": "3.7.4"
  }
 },
 "nbformat": 4,
 "nbformat_minor": 2
}
